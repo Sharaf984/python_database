{
    "cells": [
        {
            "metadata": {},
            "cell_type": "code",
            "source": "import json\nimport sqlite3\n\nconn = sqlite3.connect('rosterdb.sqlite')\ncur = conn.cursor()\n\n# Do some setup\ncur.executescript('''\nDROP TABLE IF EXISTS User;\nDROP TABLE IF EXISTS Member;\nDROP TABLE IF EXISTS Course;\n\nCREATE TABLE User (\n    id     INTEGER NOT NULL PRIMARY KEY AUTOINCREMENT UNIQUE,\n    name   TEXT UNIQUE\n);\n\nCREATE TABLE Course (\n    id     INTEGER NOT NULL PRIMARY KEY AUTOINCREMENT UNIQUE,\n    title  TEXT UNIQUE\n);\n\nCREATE TABLE Member (\n    user_id     INTEGER,\n    course_id   INTEGER,\n    role        INTEGER,\n    PRIMARY KEY (user_id, course_id)\n)\n''')\n\nfname = input('Enter file name: ')\nif len(fname) < 1:\n    fname = 'roster_data.json'\n\n# [\n#   [ \"Charley\", \"si110\", 1 ],\n#   [ \"Mea\", \"si110\", 0 ],\n\nstr_data = open(fname).read()\njson_data = json.loads(str_data)\n\nfor entry in json_data:\n\n    name = entry[0];\n    title = entry[1];\n    role=entry[2]\n    print((name, title,role))\n\n    cur.execute('''INSERT OR IGNORE INTO User (name)\n        VALUES ( ? )''', ( name, ) )\n    cur.execute('SELECT id FROM User WHERE name = ? ', (name, ))\n    user_id = cur.fetchone()[0]\n\n    cur.execute('''INSERT OR IGNORE INTO Course (title)\n        VALUES ( ? )''', ( title, ) )\n    cur.execute('SELECT id FROM Course WHERE title = ? ', (title, ))\n    course_id = cur.fetchone()[0]\n\n    cur.execute('''INSERT OR REPLACE INTO Member\n        (user_id, course_id,role) VALUES ( ?, ? ,?)''',\n        ( user_id, course_id,role) )\n\nconn.commit()",
            "execution_count": 1,
            "outputs": [
                {
                    "output_type": "stream",
                    "name": "stdout",
                    "text": "Enter file name: \n"
                },
                {
                    "output_type": "error",
                    "ename": "FileNotFoundError",
                    "evalue": "[Errno 2] No such file or directory: 'roster_data.json'",
                    "traceback": [
                        "\u001b[0;31m---------------------------------------------------------------------------\u001b[0m",
                        "\u001b[0;31mFileNotFoundError\u001b[0m                         Traceback (most recent call last)",
                        "\u001b[0;32m<ipython-input-1-0cadbc42c17f>\u001b[0m in \u001b[0;36m<module>\u001b[0;34m\u001b[0m\n\u001b[1;32m     37\u001b[0m \u001b[0;31m#   [ \"Mea\", \"si110\", 0 ],\u001b[0m\u001b[0;34m\u001b[0m\u001b[0;34m\u001b[0m\u001b[0;34m\u001b[0m\u001b[0m\n\u001b[1;32m     38\u001b[0m \u001b[0;34m\u001b[0m\u001b[0m\n\u001b[0;32m---> 39\u001b[0;31m \u001b[0mstr_data\u001b[0m \u001b[0;34m=\u001b[0m \u001b[0mopen\u001b[0m\u001b[0;34m(\u001b[0m\u001b[0mfname\u001b[0m\u001b[0;34m)\u001b[0m\u001b[0;34m.\u001b[0m\u001b[0mread\u001b[0m\u001b[0;34m(\u001b[0m\u001b[0;34m)\u001b[0m\u001b[0;34m\u001b[0m\u001b[0;34m\u001b[0m\u001b[0m\n\u001b[0m\u001b[1;32m     40\u001b[0m \u001b[0mjson_data\u001b[0m \u001b[0;34m=\u001b[0m \u001b[0mjson\u001b[0m\u001b[0;34m.\u001b[0m\u001b[0mloads\u001b[0m\u001b[0;34m(\u001b[0m\u001b[0mstr_data\u001b[0m\u001b[0;34m)\u001b[0m\u001b[0;34m\u001b[0m\u001b[0;34m\u001b[0m\u001b[0m\n\u001b[1;32m     41\u001b[0m \u001b[0;34m\u001b[0m\u001b[0m\n",
                        "\u001b[0;31mFileNotFoundError\u001b[0m: [Errno 2] No such file or directory: 'roster_data.json'"
                    ]
                }
            ]
        },
        {
            "metadata": {},
            "cell_type": "code",
            "source": "import xml.etree.ElementTree as ET\nimport sqlite3\n\nconn = sqlite3.connect('a.sqlite')\ncur = conn.cursor()\n\n# Make some fresh tables using executescript()\ncur.executescript('''\nDROP TABLE IF EXISTS Artist;\nDROP TABLE IF EXISTS Album;\nDROP TABLE IF EXISTS Track;\nDROP TABLE IF EXISTS Genre;\n\nCREATE TABLE Artist (\n    id  INTEGER NOT NULL PRIMARY KEY AUTOINCREMENT UNIQUE,\n    name    TEXT UNIQUE\n);\n\nCREATE TABLE Genre (\n    id  INTEGER NOT NULL PRIMARY KEY AUTOINCREMENT UNIQUE,\n    name    TEXT UNIQUE\n);\n\nCREATE TABLE Album (\n    id  INTEGER NOT NULL PRIMARY KEY AUTOINCREMENT UNIQUE,\n    artist_id  INTEGER,\n    title   TEXT UNIQUE\n);\n\nCREATE TABLE Track (\n    id  INTEGER NOT NULL PRIMARY KEY \n        AUTOINCREMENT UNIQUE,\n    title TEXT  UNIQUE,\n    album_id  INTEGER,\n    genre_id  INTEGER,    \n    len INTEGER, rating INTEGER, count INTEGER\n);\n''')\n\n\nfname = input('Enter file name: ')\nif ( len(fname) < 1 ) : fname = 'Library.xml'\n\n# <key>Track ID</key><integer>369</integer>\n# <key>Name</key><string>Another One Bites The Dust</string>\n# <key>Artist</key><string>Queen</string>\ndef lookup(d, key):\n    found = False\n    for child in d:\n        if found : return child.text\n        if child.tag == 'key' and child.text == key :\n            found = True\n    return None\n\nstuff = ET.parse(fname)\nall = stuff.findall('dict/dict/dict')\nprint('Dict count:', len(all))\nfor entry in all:\n    if ( lookup(entry, 'Track ID') is None ) : continue\n\n    name = lookup(entry, 'Name')\n    artist = lookup(entry, 'Artist')\n    album = lookup(entry, 'Album')\n    count = lookup(entry, 'Play Count')\n    rating = lookup(entry, 'Rating')\n    length = lookup(entry, 'Total Time')\n    Genre =lookup(entry, 'Genre')\n   \n\n    if name is None or artist is None or album is None or Genre is None: \n        continue\n\n    print(name, artist, album, count, rating, length,Genre)\n\n    cur.execute('''INSERT OR IGNORE INTO Artist (name) \n        VALUES ( ? )''', ( artist, ) )\n    cur.execute('SELECT id FROM Artist WHERE name = ? ', (artist, ))\n    artist_id = cur.fetchone()[0]\n    \n    cur.execute('''INSERT OR IGNORE INTO Genre  (name) \n        VALUES ( ? )''', ( Genre, ) )\n    cur.execute('SELECT id FROM Genre WHERE name = ? ', (Genre, ))\n    genre_id = cur.fetchone()[0]\n    \n    cur.execute('''INSERT OR IGNORE INTO Album (title, artist_id) \n        VALUES ( ?, ? )''', ( album, artist_id ) )\n    cur.execute('SELECT id FROM Album WHERE title = ? ', (album, ))\n    album_id = cur.fetchone()[0]\n\n    cur.execute('''INSERT OR REPLACE INTO Track\n        (title, album_id,genre_id, len, rating, count) \n        VALUES ( ?, ?,?, ?, ?, ? )''', \n        ( name, album_id,genre_id, length, rating, count ) )\n\nconn.commit()\n",
            "execution_count": null,
            "outputs": []
        }
    ],
    "metadata": {
        "kernelspec": {
            "name": "python3",
            "display_name": "Python 3.7",
            "language": "python"
        },
        "language_info": {
            "name": "python",
            "version": "3.7.9",
            "mimetype": "text/x-python",
            "codemirror_mode": {
                "name": "ipython",
                "version": 3
            },
            "pygments_lexer": "ipython3",
            "nbconvert_exporter": "python",
            "file_extension": ".py"
        }
    },
    "nbformat": 4,
    "nbformat_minor": 1
}