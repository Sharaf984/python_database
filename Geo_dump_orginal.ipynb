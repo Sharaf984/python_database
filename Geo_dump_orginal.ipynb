{
    "cells": [
        {
            "metadata": {
                "collapsed": true
            },
            "cell_type": "code",
            "source": "import sqlite3\nimport json\nimport codecs\n\nconn = sqlite3.connect('geodata.sqlite')\ncur = conn.cursor()\n\ncur.execute('SELECT * FROM Locations')\nfhand = codecs.open('where.js', 'w', \"utf-8\")\nfhand.write(\"myData = [\\n\")\ncount = 0\nfor row in cur :\n    data = str(row[1].decode())\n    try: js = json.loads(str(data))\n    except: continue\n\n    if not('status' in js and js['status'] == 'OK') : continue\n\n    lat = js[\"results\"][0][\"geometry\"][\"location\"][\"lat\"]\n    lng = js[\"results\"][0][\"geometry\"][\"location\"][\"lng\"]\n    if lat == 0 or lng == 0 : continue\n    where = js['results'][0]['formatted_address']\n    where = where.replace(\"'\", \"\")\n    try :\n        print(where, lat, lng)\n\n        count = count + 1\n        if count > 1 : fhand.write(\",\\n\")\n        output = \"[\"+str(lat)+\",\"+str(lng)+\", '\"+where+\"']\"\n        fhand.write(output)\n    except:\n        continue\n\nfhand.write(\"\\n];\\n\")\ncur.close()\nfhand.close()\nprint(count, \"records written to where.js\")\nprint(\"Open where.html to view the data in a browser\")\n\n",
            "execution_count": null,
            "outputs": []
        }
    ],
    "metadata": {
        "kernelspec": {
            "name": "python3",
            "display_name": "Python 3.7",
            "language": "python"
        },
        "language_info": {
            "name": "python",
            "version": "3.7.9",
            "mimetype": "text/x-python",
            "codemirror_mode": {
                "name": "ipython",
                "version": 3
            },
            "pygments_lexer": "ipython3",
            "nbconvert_exporter": "python",
            "file_extension": ".py"
        }
    },
    "nbformat": 4,
    "nbformat_minor": 1
}