{
    "cells": [
        {
            "metadata": {},
            "cell_type": "code",
            "source": "class car:\n    #attribute\n    color=\"red\"\n    speed=100\n    #method\n    def __init__(self,namecar):\n        print(\"I am constructors in car1 for\",namecar)\n    def rise_speed1(self,x):\n        self.speed=self.speed+x\n        return self.speed\n    def __del__(self):\n        print(\"I am deconstructors in car1\")\n    ",
            "execution_count": 131,
            "outputs": []
        },
        {
            "metadata": {},
            "cell_type": "code",
            "source": "class car2(car):\n\n    def rise_speed(self,y):\n        return self.rise_speed1(y)",
            "execution_count": 132,
            "outputs": []
        },
        {
            "metadata": {},
            "cell_type": "code",
            "source": "Mazda=car2(\"Mazda\")\nprint(Mazda.rise_speed(500))",
            "execution_count": 133,
            "outputs": [
                {
                    "output_type": "stream",
                    "text": "I am constructors in car1 for Mazda\nI am deconstructors in car1\n600\n",
                    "name": "stdout"
                }
            ]
        },
        {
            "metadata": {},
            "cell_type": "code",
            "source": "",
            "execution_count": null,
            "outputs": []
        },
        {
            "metadata": {},
            "cell_type": "code",
            "source": "",
            "execution_count": null,
            "outputs": []
        }
    ],
    "metadata": {
        "kernelspec": {
            "name": "python3",
            "display_name": "Python 3.7",
            "language": "python"
        },
        "language_info": {
            "name": "python",
            "version": "3.7.9",
            "mimetype": "text/x-python",
            "codemirror_mode": {
                "name": "ipython",
                "version": 3
            },
            "pygments_lexer": "ipython3",
            "nbconvert_exporter": "python",
            "file_extension": ".py"
        }
    },
    "nbformat": 4,
    "nbformat_minor": 1
}